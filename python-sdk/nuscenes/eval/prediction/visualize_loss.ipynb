{
 "cells": [
  {
   "cell_type": "code",
   "execution_count": 32,
   "metadata": {},
   "outputs": [],
   "source": [
    "#Quick fix for plotting training and validation loss\n",
    "#Long term fix is to use tensorboard"
   ]
  },
  {
   "cell_type": "code",
   "execution_count": 86,
   "metadata": {},
   "outputs": [
    {
     "data": {
      "text/plain": [
       "'/home/jupyter/nuscenes-devkit/python-sdk/nuscenes/eval/prediction'"
      ]
     },
     "execution_count": 86,
     "metadata": {},
     "output_type": "execute_result"
    }
   ],
   "source": [
    "import matplotlib.pyplot as plt\n",
    "import os\n",
    "import json\n",
    "import numpy as np"
   ]
  },
  {
   "cell_type": "code",
   "execution_count": 34,
   "metadata": {},
   "outputs": [],
   "source": [
    "EXPERIMENT_DIR = '/home/jupyter/experiments/04'"
   ]
  },
  {
   "cell_type": "code",
   "execution_count": 40,
   "metadata": {},
   "outputs": [
    {
     "name": "stdout",
     "output_type": "stream",
     "text": [
      "['train_results_2020-06-27 22h20m01s.json', 'train_results_2020-06-27 16h57m05s.json', 'train_results_2020-06-27 21h04m45s.json']\n"
     ]
    }
   ],
   "source": [
    "#merge all files of the form train_results_ or val_results_\n",
    "#the assumption is that all result files in a single directory belong to the same experiment\n",
    "\n",
    "training_results_files = [filename for filename in os.listdir(EXPERIMENT_DIR) if filename.startswith('train_results_')]\n",
    "validation_results_files = [filename for filename in os.listdir(EXPERIMENT_DIR) if filename.startswith('val_results_')]"
   ]
  },
  {
   "cell_type": "code",
   "execution_count": 74,
   "metadata": {},
   "outputs": [],
   "source": [
    "def Merge(dict1, dict2): \n",
    "    return(dict2.update(dict1)) \n",
    "\n",
    "def aggregate_all_results_across_phase(results_files):\n",
    "    all_results = {}\n",
    "    for filename in results_files:\n",
    "        with open(os.path.join(EXPERIMENT_DIR, filename)) as json_file:\n",
    "            results = json.load(json_file)\n",
    "            Merge(results, all_results)\n",
    "\n",
    "    return all_results\n",
    "\n",
    "def extract_loss_ordered_by_epoch(results):\n",
    "    loss_at_epoch = {}\n",
    "    for key, value in results.items():\n",
    "        loss_at_epoch[int(value['epoch'])] = value['loss']\n",
    "    losses = [loss_at_epoch[epoch] for epoch in sorted(loss_at_epoch.keys())]\n",
    "\n",
    "    print(loss_at_epoch)\n",
    "    print(losses)\n",
    "    return losses"
   ]
  },
  {
   "cell_type": "code",
   "execution_count": 75,
   "metadata": {},
   "outputs": [],
   "source": [
    "training_results = aggregate_all_results_across_phase(training_results_files)\n",
    "validation_results = aggregate_all_results_across_phase(validation_results_files)"
   ]
  },
  {
   "cell_type": "code",
   "execution_count": 76,
   "metadata": {},
   "outputs": [
    {
     "name": "stdout",
     "output_type": "stream",
     "text": [
      "{4: 4.677512303771215, 5: 4.6041128812889305, 6: 4.188938989236988, 0: 6.693066298813737, 1: 5.97960696918497, 2: 5.621523595625354, 3: 5.203187143832223}\n",
      "[6.693066298813737, 5.97960696918497, 5.621523595625354, 5.203187143832223, 4.677512303771215, 4.6041128812889305, 4.188938989236988]\n",
      "{3: 6.954208289351419, 0: 6.793912531059479, 1: 6.383432513085481, 2: 6.399047976342317, 4: 8.102618319965968, 5: 8.12539479442846, 6: 8.298585789225926}\n",
      "[6.793912531059479, 6.383432513085481, 6.399047976342317, 6.954208289351419, 8.102618319965968, 8.12539479442846, 8.298585789225926]\n"
     ]
    }
   ],
   "source": [
    "train_losses = extract_loss_ordered_by_epoch(training_results)\n",
    "validation_losses = extract_loss_ordered_by_epoch(validation_results)"
   ]
  },
  {
   "cell_type": "code",
   "execution_count": 85,
   "metadata": {},
   "outputs": [
    {
     "data": {
      "image/png": "[encoded data removed]",
      "text/plain": [
       "<Figure size 432x288 with 1 Axes>"
      ]
     },
     "metadata": {
      "needs_background": "light"
     },
     "output_type": "display_data"
    }
   ],
   "source": [
    "epochs = np.arange(0, len(train_losses))\n",
    "plt.plot(epochs, train_losses, color='blue')\n",
    "plt.plot(epochs, validation_losses, color='red')\n",
    "plt.legend(['train', 'val'])\n",
    "plt.xlabel('epoch')\n",
    "plt.ylabel('loss')\n",
    "plt.show()"
   ]
  },
  {
   "cell_type": "code",
   "execution_count": null,
   "metadata": {},
   "outputs": [],
   "source": []
  }
 ],
 "metadata": {
  "kernelspec": {
   "display_name": "Python 3",
   "language": "python",
   "name": "python3"
  },
  "language_info": {
   "codemirror_mode": {
    "name": "ipython",
    "version": 3
   },
   "file_extension": ".py",
   "mimetype": "text/x-python",
   "name": "python",
   "nbconvert_exporter": "python",
   "pygments_lexer": "ipython3",
   "version": "3.7.6"
  }
 },
 "nbformat": 4,
 "nbformat_minor": 4
}
