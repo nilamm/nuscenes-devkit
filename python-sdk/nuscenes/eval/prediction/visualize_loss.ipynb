{
 "cells": [
  {
   "cell_type": "code",
   "execution_count": 139,
   "metadata": {},
   "outputs": [],
   "source": [
    "#Quick fix for plotting training and validation loss\n",
    "#Long term fix is to use tensorboard"
   ]
  },
  {
   "cell_type": "code",
   "execution_count": 140,
   "metadata": {},
   "outputs": [],
   "source": [
    "import matplotlib.pyplot as plt\n",
    "import os\n",
    "import json\n",
    "import numpy as np"
   ]
  },
  {
   "cell_type": "code",
   "execution_count": 141,
   "metadata": {},
   "outputs": [],
   "source": [
    "EXPERIMENT_DIR = '/home/jupyter/experiments/09-simclr-freeze'"
   ]
  },
  {
   "cell_type": "code",
   "execution_count": 142,
   "metadata": {},
   "outputs": [],
   "source": [
    "#merge all files of the form train_results_ or val_results_\n",
    "#the assumption is that all result files in a single directory belong to the same experiment\n",
    "\n",
    "training_results_files = [filename for filename in os.listdir(EXPERIMENT_DIR) if filename.startswith('train_results_')]\n",
    "validation_results_files = [filename for filename in os.listdir(EXPERIMENT_DIR) if filename.startswith('val_results_')]"
   ]
  },
  {
   "cell_type": "code",
   "execution_count": 143,
   "metadata": {},
   "outputs": [],
   "source": [
    "def Merge(dict1, dict2): \n",
    "    return(dict2.update(dict1)) \n",
    "\n",
    "def aggregate_all_results_across_phase(results_files):\n",
    "    all_results = {}\n",
    "    for filename in results_files:\n",
    "        with open(os.path.join(EXPERIMENT_DIR, filename)) as json_file:\n",
    "            results = json.load(json_file)\n",
    "            Merge(results, all_results)\n",
    "\n",
    "    return all_results\n",
    "\n",
    "def extract_loss_ordered_by_epoch(results):\n",
    "    loss_at_epoch = {}\n",
    "    for key, value in results.items():\n",
    "        loss_at_epoch[int(value['epoch'])] = value['loss']\n",
    "    losses = [loss_at_epoch[epoch] for epoch in sorted(loss_at_epoch.keys())]\n",
    "\n",
    "    print(loss_at_epoch)\n",
    "    print(losses)\n",
    "    return losses"
   ]
  },
  {
   "cell_type": "code",
   "execution_count": 144,
   "metadata": {},
   "outputs": [],
   "source": [
    "training_results = aggregate_all_results_across_phase(training_results_files)\n",
    "validation_results = aggregate_all_results_across_phase(validation_results_files)"
   ]
  },
  {
   "cell_type": "code",
   "execution_count": 145,
   "metadata": {},
   "outputs": [
    {
     "name": "stdout",
     "output_type": "stream",
     "text": [
      "{0: 7.0353205020611105, 1: 6.301916748359245, 2: 6.058700975650002, 3: 5.887283495578814, 4: 5.716801293138831}\n",
      "[7.0353205020611105, 6.301916748359245, 6.058700975650002, 5.887283495578814, 5.716801293138831]\n",
      "{0: 6.597981831737768, 1: 6.44778248974096, 2: 6.312253136501134, 3: 6.331028301025105, 4: 6.212054720548826}\n",
      "[6.597981831737768, 6.44778248974096, 6.312253136501134, 6.331028301025105, 6.212054720548826]\n"
     ]
    }
   ],
   "source": [
    "train_losses = extract_loss_ordered_by_epoch(training_results)\n",
    "validation_losses = extract_loss_ordered_by_epoch(validation_results)"
   ]
  },
  {
   "cell_type": "code",
   "execution_count": 146,
   "metadata": {},
   "outputs": [
    {
     "data": {
      "image/png": "[encoded data removed]",
      "text/plain": [
       "<Figure size 432x288 with 1 Axes>"
      ]
     },
     "metadata": {
      "needs_background": "light"
     },
     "output_type": "display_data"
    }
   ],
   "source": [
    "epochs = np.arange(0, len(train_losses))\n",
    "plt.plot(epochs, train_losses, color='blue')\n",
    "plt.plot(epochs, validation_losses, color='red')\n",
    "plt.legend(['train', 'val'])\n",
    "plt.xlabel('epoch')\n",
    "plt.ylabel('loss')\n",
    "plt.show()"
   ]
  },
  {
   "cell_type": "code",
   "execution_count": null,
   "metadata": {},
   "outputs": [],
   "source": []
  }
 ],
 "metadata": {
  "kernelspec": {
   "display_name": "Python 3",
   "language": "python",
   "name": "python3"
  },
  "language_info": {
   "codemirror_mode": {
    "name": "ipython",
    "version": 3
   },
   "file_extension": ".py",
   "mimetype": "text/x-python",
   "name": "python",
   "nbconvert_exporter": "python",
   "pygments_lexer": "ipython3",
   "version": "3.7.6"
  }
 },
 "nbformat": 4,
 "nbformat_minor": 4
}
